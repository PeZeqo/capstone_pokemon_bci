{
 "cells": [
  {
   "cell_type": "code",
   "execution_count": 17,
   "metadata": {},
   "outputs": [],
   "source": [
    "import pandas as pd\n",
    "import numpy as np\n",
    "from matplotlib import pyplot as plt \n",
    "from scipy import linalg\n",
    "from sklearn.decomposition import PCA\n",
    "\n",
    "# go here for the example I followed: https://github.com/nbara/python-meegkit/blob/master/examples/example_mcca.ipynb\n",
    "# the following CCA functions are from there."
   ]
  },
  {
   "cell_type": "code",
   "execution_count": 2,
   "metadata": {},
   "outputs": [],
   "source": [
    "## CCA Functions\n",
    "def mcca(C, n_channels, n_keep=[]):\n",
    "    \"\"\"Multiway canonical correlation analysis.\n",
    "    As described in [1]_.\n",
    "    Parameters\n",
    "    ----------\n",
    "    C : array, shape=(n_channels * n_datasets, n_channels * n_datasets)\n",
    "        Covariance matrix of aggregated data sets.\n",
    "    n_channels : int\n",
    "        Number of channels of each data set.\n",
    "    n_keep: int\n",
    "        Number of components to keep (for orthogonal transforms).\n",
    "    Returns\n",
    "    -------\n",
    "    A : array, shape=(n_channels * n_datasets, n_channels * n_datasets)\n",
    "        Transform matrix.\n",
    "    scores : array, shape=(n_comps,)\n",
    "        Commonality score (ranges from 1 to N^2).\n",
    "    AA : list of arrays, shapes = (n_channels, n_channels * n_datasets)\n",
    "        Subject-specific MCCA transform matrices.\n",
    "    References\n",
    "    ----------\n",
    "    .. [1] de Cheveigne, A., Di Liberto, G. M., Arzounian, D., Wong, D.,\n",
    "       Hjortkjaer, J., Fuglsang, S. A., & Parra, L. C. (2018). Multiway\n",
    "       Canonical Correlation Analysis of Brain Signals. bioRxiv, 344960.\n",
    "    \"\"\"\n",
    "    if C.shape[0] != C.shape[1]:\n",
    "        raise ValueError('Covariance must be square !')\n",
    "    if np.mod(C.shape[0], n_channels) != 0:\n",
    "        raise ValueError('!')\n",
    "\n",
    "    # Whiten covariance by blocks\n",
    "    n_blocks = C.shape[0] // n_channels\n",
    "    A = np.zeros((n_channels * n_blocks, n_channels * n_blocks))\n",
    "    for b in range(n_blocks):\n",
    "\n",
    "        # Extract block covariance\n",
    "        ix0 = b * n_channels\n",
    "        ix1 = ix0 + n_channels\n",
    "        CC = C[ix0:ix1, ix0:ix1]\n",
    "\n",
    "        # Sphere it\n",
    "        W = whiten_nt(CC, keep=True)\n",
    "        A[ix0:ix1, ix0:ix1] = W\n",
    "\n",
    "    C = A.T.dot(C.dot(A))\n",
    "\n",
    "    # final PCA\n",
    "    V, d = pca(C, thresh=None)  # don't threshold the PCA to keep n_channels\n",
    "    A = A.dot(V)\n",
    "    C = V.T.dot(C.dot(V))\n",
    "    scores = np.diag(C)\n",
    "\n",
    "    AA = []\n",
    "    for b in range(n_blocks):\n",
    "        AA.append(A[n_channels * b + np.arange(n_channels), :])\n",
    "\n",
    "    return A, scores, AA\n",
    "\n",
    "def whiten_nt(C, thresh=1e-12, keep=False):\n",
    "    \"\"\"Covariance whitening function from noisetools.\n",
    "    Parameters\n",
    "    ----------\n",
    "    C : array\n",
    "        Covariance matrix.\n",
    "    thresh : float\n",
    "        PCA threshold.\n",
    "    keep : bool\n",
    "        If True, infrathreshold components are set to zero. If False (default),\n",
    "        infrathreshold components are truncated.\n",
    "    \"\"\"\n",
    "    d, V = linalg.eigh(C)  # eigh if matrix symmetric, eig otherwise\n",
    "    d = np.real(d)\n",
    "    V = np.real(V)\n",
    "\n",
    "    # Sort eigenvalues\n",
    "    idx = np.argsort(d)[::-1]\n",
    "    d = d[idx]\n",
    "    V = V[:, idx]\n",
    "\n",
    "    # Remove small eigenvalues\n",
    "    good = (d / np.max(d)) > thresh\n",
    "    if keep is True:\n",
    "        d[~good] = 0\n",
    "        V[:, ~good] = 0\n",
    "    else:\n",
    "        d = d[good]\n",
    "        V = V[:, good]\n",
    "\n",
    "    # break symmetry when x and y perfectly correlated (otherwise cols of x*A\n",
    "    # and y*B are not orthogonal)\n",
    "    d = d ** (1 - thresh)\n",
    "\n",
    "    dd = np.zeros_like(d)\n",
    "    dd[d > thresh] = (1. / d[d > thresh])\n",
    "\n",
    "    D = np.diag(np.sqrt(dd))\n",
    "    W = np.dot(V, D)\n",
    "\n",
    "    return W\n",
    "\n",
    "def pca(cov, max_comps=None, thresh=0):\n",
    "    \"\"\"PCA from covariance.\n",
    "    Parameters\n",
    "    ----------\n",
    "    cov:  array, shape=(n_chans, n_chans)\n",
    "        Covariance matrix.\n",
    "    max_comps : int | None\n",
    "        Maximum number of components to retain after decomposition. ``None``\n",
    "        (the default) keeps all suprathreshold components (see ``thresh``).\n",
    "    thresh : float\n",
    "        Discard components below this threshold.\n",
    "    Returns\n",
    "    -------\n",
    "    V : array, shape=(max_comps, max_comps)\n",
    "        Eigenvectors (matrix of PCA components).\n",
    "    d : array, shape=(max_comps,)\n",
    "        PCA eigenvalues\n",
    "    \"\"\"\n",
    "    if thresh is not None and (thresh > 1 or thresh < 0):\n",
    "        raise ValueError('Threshold must be between 0 and 1 (or None).')\n",
    "\n",
    "    d, V = linalg.eigh(cov)\n",
    "    d = d.real\n",
    "    V = V.real\n",
    "\n",
    "    p0 = d.sum()  # total power\n",
    "\n",
    "    idx = np.argsort(d)[::-1]  # reverse sort ev order\n",
    "    d = d[idx]\n",
    "    V = V[:, idx]\n",
    "\n",
    "    # Truncate weak components\n",
    "    if thresh is not None:\n",
    "        idx = np.where(d / d.max() > thresh)[0]\n",
    "        d = d[idx]\n",
    "        V = V[:, idx]\n",
    "\n",
    "    # Keep a fixed number of components\n",
    "    if max_comps is None:\n",
    "        max_comps = V.shape[1]\n",
    "    else:\n",
    "        max_comps = np.min((max_comps, V.shape[1]))\n",
    "\n",
    "    V = V[:, np.arange(max_comps)]\n",
    "    d = d[np.arange(max_comps)]\n",
    "\n",
    "    var = 100 * d.sum() / p0\n",
    "    if var < 99:\n",
    "        print('[PCA] Explained variance of selected components : {:.2f}%'.\n",
    "              format(var))\n",
    "\n",
    "    return V, d\n",
    "\n",
    "\n"
   ]
  },
  {
   "cell_type": "code",
   "execution_count": 4,
   "metadata": {},
   "outputs": [],
   "source": [
    "## Load Dataset\n",
    "templates = []\n",
    "keep_cols = ['Timestamp', 'EEG.P7', 'EEG.O1', 'EEG.O2', 'EEG.P8']\n",
    "#df = trim_cols(load_df('sultan_checkerboard_{}.csv'.format(1)))\n",
    "\n",
    "def trim_cols(df, keep):\n",
    "    return df[keep]\n",
    "\n",
    "for i in range(8):\n",
    "    templates.append(trim_cols(pd.read_csv('templates/sultan_checkerboard_{}.csv'.format(i+1), skiprows=0, header=1), keep_cols))"
   ]
  },
  {
   "cell_type": "code",
   "execution_count": 6,
   "metadata": {},
   "outputs": [],
   "source": [
    "## Now I want an input signal to compare with the templates\n",
    "## For now, I will choose a subset of data from target 1 \n",
    "\n",
    "from sklearn.model_selection import train_test_split\n",
    "train, test = train_test_split(templates[0], test_size=0.1)\n",
    "# remove test data from templates\n",
    "templates[0] = train\n"
   ]
  },
  {
   "cell_type": "code",
   "execution_count": 13,
   "metadata": {},
   "outputs": [
    {
     "name": "stdout",
     "output_type": "stream",
     "text": [
      "length of dataset 1 = 3483\n",
      "length of dataset 2 = 3483\n",
      "length of dataset 3 = 3483\n",
      "length of dataset 4 = 3483\n",
      "length of dataset 5 = 3483\n",
      "length of dataset 6 = 3483\n",
      "length of dataset 7 = 3483\n",
      "length of dataset 8 = 3483\n"
     ]
    }
   ],
   "source": [
    "# cutoff according to shortest length - templates[0]\n",
    "cutoff = len(templates[0].index)\n",
    "for i in range(8):\n",
    "    keep_indicies = set(range(templates[i].shape[0])) - set(range(cutoff, templates[i].shape[0]))\n",
    "    templates[i] = templates[i].take(list(keep_indicies))\n",
    "    print('length of dataset {} = {}'.format(i+1, len(templates[i].index)))"
   ]
  },
  {
   "cell_type": "code",
   "execution_count": 14,
   "metadata": {},
   "outputs": [
    {
     "name": "stdout",
     "output_type": "stream",
     "text": [
      "Aggregated data covariance shape: (40, 40)\n"
     ]
    }
   ],
   "source": [
    "x = np.hstack(templates)\n",
    "C = np.dot(x.T, x)\n",
    "print('Aggregated data covariance shape: {}'.format(C.shape))"
   ]
  },
  {
   "cell_type": "code",
   "execution_count": 15,
   "metadata": {},
   "outputs": [],
   "source": [
    "## apply CCA\n",
    "[A, score, AA] = mcca(C, 8)\n",
    "z = x.dot(A)"
   ]
  },
  {
   "cell_type": "code",
   "execution_count": 16,
   "metadata": {},
   "outputs": [
    {
     "data": {
      "image/png": "[encoded data removed]",
      "text/plain": [
       "<Figure size 864x288 with 3 Axes>"
      ]
     },
     "metadata": {
      "needs_background": "light"
     },
     "output_type": "display_data"
    }
   ],
   "source": [
    "## plot results\n",
    "f, axes = plt.subplots(1, 3, figsize=(12, 4))\n",
    "axes[0].imshow(A, aspect='auto')\n",
    "axes[0].set_title('mCCA transform matrix')\n",
    "axes[1].imshow(A.T.dot(C.dot(A)), aspect='auto')\n",
    "axes[1].set_title('Covariance of\\ntransformed data')\n",
    "axes[2].imshow(x.T.dot((x.dot(A))), aspect='auto')\n",
    "axes[2].set_title('Cross-correlation between\\nraw & transformed data')\n",
    "axes[2].set_xlabel('transformed')\n",
    "axes[2].set_ylabel('raw')\n",
    "plt.plot(np.mean(z ** 2, axis=0))\n",
    "plt.show()"
   ]
  },
  {
   "cell_type": "code",
   "execution_count": null,
   "metadata": {},
   "outputs": [],
   "source": []
  }
 ],
 "metadata": {
  "kernelspec": {
   "display_name": "Python 3",
   "language": "python",
   "name": "python3"
  },
  "language_info": {
   "codemirror_mode": {
    "name": "ipython",
    "version": 3
   },
   "file_extension": ".py",
   "mimetype": "text/x-python",
   "name": "python",
   "nbconvert_exporter": "python",
   "pygments_lexer": "ipython3",
   "version": "3.8.3"
  }
 },
 "nbformat": 4,
 "nbformat_minor": 4
}
