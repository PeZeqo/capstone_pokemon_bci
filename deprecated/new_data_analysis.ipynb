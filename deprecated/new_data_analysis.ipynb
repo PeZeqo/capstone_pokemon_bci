{
 "cells": [
  {
   "cell_type": "code",
   "execution_count": 1,
   "metadata": {},
   "outputs": [],
   "source": [
    "import pandas as pd\n",
    "import numpy as np\n",
    "from matplotlib import pyplot as plt \n",
    "from scipy import signal\n",
    "from scipy.stats.stats import pearsonr"
   ]
  },
  {
   "cell_type": "code",
   "execution_count": 2,
   "metadata": {},
   "outputs": [],
   "source": [
    "## Load Dataset\n",
    "targets = []\n",
    "keep_channels = ['Timestamp', 'EEG.Counter', 'EEG.P7', 'EEG.O1', 'EEG.O2', 'EEG.P8']\n",
    "channels = ['EEG.O1', 'EEG.O2', 'EEG.P7', 'EEG.P8']\n",
    "\n",
    "for i in range(8):\n",
    "    df = pd.read_csv('recordings/checkerboard_recording_sultan_{}.csv'.format(i), skiprows=0)\n",
    "    targets.append(df)"
   ]
  },
  {
   "cell_type": "code",
   "execution_count": 3,
   "metadata": {
    "scrolled": true
   },
   "outputs": [
    {
     "name": "stdout",
     "output_type": "stream",
     "text": [
      "length of dataset 1 = 1920\n",
      "length of dataset 2 = 1920\n",
      "length of dataset 3 = 1920\n",
      "length of dataset 4 = 1920\n",
      "length of dataset 5 = 1920\n",
      "length of dataset 6 = 1920\n",
      "length of dataset 7 = 1920\n",
      "length of dataset 8 = 1920\n"
     ]
    }
   ],
   "source": [
    "# cutoff according to shortest length\n",
    "cutoff = min([len(targets[i].index) for i in range(8)])\n",
    "for i in range(8):\n",
    "    keep_indicies = set(range(targets[i].shape[0])) - set(range(cutoff, targets[i].shape[0]))\n",
    "    targets[i] = targets[i].take(list(keep_indicies))\n",
    "    print('length of dataset {} = {}'.format(i+1, len(targets[i].index)))"
   ]
  },
  {
   "cell_type": "code",
   "execution_count": 4,
   "metadata": {},
   "outputs": [],
   "source": [
    "# add EEG.Counter column - 0 to 128 counter\n",
    "seq = [i % 129 for i in range(len(targets[0].index))]\n",
    "for target in targets:\n",
    "    target.rename(columns = {'Unnamed: 0': 'Counter'}, inplace=True)\n",
    "    target['Counter'] = seq"
   ]
  },
  {
   "cell_type": "code",
   "execution_count": 8,
   "metadata": {},
   "outputs": [],
   "source": [
    "def filter_template(template, offset_mode='average'):\n",
    "    channels = ['P7', 'O1', 'O2', 'P8']\n",
    "    filt = signal.firwin(400, [0.01, 0.06], pass_zero=False)\n",
    "    for channel in channels:\n",
    "        if offset_mode == 'average':\n",
    "            offset = np.average(np.array(template[channel]))\n",
    "        elif offset_mode == 'minimum':\n",
    "            offset = np.amin(np.array(template[channel]))\n",
    "        elif offset_mode == 'same':\n",
    "            offset = 3800\n",
    "        elif offset_mode == 'none':\n",
    "            offset = 0\n",
    "        else:\n",
    "            raise ValueError('choose a valid offset_mode')\n",
    "        template[channel] = [i - offset for i in template[channel]]\n",
    "        template[channel] = signal.convolve(template[channel], filt, mode='same')\n",
    "        \n",
    "    "
   ]
  },
  {
   "cell_type": "code",
   "execution_count": 9,
   "metadata": {},
   "outputs": [],
   "source": [
    "for target in targets:\n",
    "    filter_template(target)"
   ]
  },
  {
   "cell_type": "code",
   "execution_count": 10,
   "metadata": {},
   "outputs": [
    {
     "data": {
      "text/html": [
       "<div>\n",
       "<style scoped>\n",
       "    .dataframe tbody tr th:only-of-type {\n",
       "        vertical-align: middle;\n",
       "    }\n",
       "\n",
       "    .dataframe tbody tr th {\n",
       "        vertical-align: top;\n",
       "    }\n",
       "\n",
       "    .dataframe thead th {\n",
       "        text-align: right;\n",
       "    }\n",
       "</style>\n",
       "<table border=\"1\" class=\"dataframe\">\n",
       "  <thead>\n",
       "    <tr style=\"text-align: right;\">\n",
       "      <th></th>\n",
       "      <th>Counter</th>\n",
       "      <th>P7</th>\n",
       "      <th>O1</th>\n",
       "      <th>O2</th>\n",
       "      <th>P8</th>\n",
       "      <th>TIME</th>\n",
       "    </tr>\n",
       "  </thead>\n",
       "  <tbody>\n",
       "    <tr>\n",
       "      <th>0</th>\n",
       "      <td>0</td>\n",
       "      <td>-9.561456</td>\n",
       "      <td>-3.343435</td>\n",
       "      <td>-4.003729</td>\n",
       "      <td>-3.802192</td>\n",
       "      <td>1.603039e+09</td>\n",
       "    </tr>\n",
       "    <tr>\n",
       "      <th>1</th>\n",
       "      <td>1</td>\n",
       "      <td>-11.409814</td>\n",
       "      <td>-3.897338</td>\n",
       "      <td>-4.832102</td>\n",
       "      <td>-3.935986</td>\n",
       "      <td>1.603039e+09</td>\n",
       "    </tr>\n",
       "    <tr>\n",
       "      <th>2</th>\n",
       "      <td>2</td>\n",
       "      <td>-13.156168</td>\n",
       "      <td>-4.396484</td>\n",
       "      <td>-5.601704</td>\n",
       "      <td>-4.039875</td>\n",
       "      <td>1.603039e+09</td>\n",
       "    </tr>\n",
       "    <tr>\n",
       "      <th>3</th>\n",
       "      <td>3</td>\n",
       "      <td>-14.767379</td>\n",
       "      <td>-4.828228</td>\n",
       "      <td>-6.294223</td>\n",
       "      <td>-4.105408</td>\n",
       "      <td>1.603039e+09</td>\n",
       "    </tr>\n",
       "    <tr>\n",
       "      <th>4</th>\n",
       "      <td>4</td>\n",
       "      <td>-16.213074</td>\n",
       "      <td>-5.181002</td>\n",
       "      <td>-6.892716</td>\n",
       "      <td>-4.125112</td>\n",
       "      <td>1.603039e+09</td>\n",
       "    </tr>\n",
       "    <tr>\n",
       "      <th>...</th>\n",
       "      <td>...</td>\n",
       "      <td>...</td>\n",
       "      <td>...</td>\n",
       "      <td>...</td>\n",
       "      <td>...</td>\n",
       "      <td>...</td>\n",
       "    </tr>\n",
       "    <tr>\n",
       "      <th>1915</th>\n",
       "      <td>109</td>\n",
       "      <td>0.655595</td>\n",
       "      <td>1.996756</td>\n",
       "      <td>1.661130</td>\n",
       "      <td>-2.542917</td>\n",
       "      <td>1.603039e+09</td>\n",
       "    </tr>\n",
       "    <tr>\n",
       "      <th>1916</th>\n",
       "      <td>110</td>\n",
       "      <td>0.688208</td>\n",
       "      <td>1.771492</td>\n",
       "      <td>1.111060</td>\n",
       "      <td>-1.634517</td>\n",
       "      <td>1.603039e+09</td>\n",
       "    </tr>\n",
       "    <tr>\n",
       "      <th>1917</th>\n",
       "      <td>111</td>\n",
       "      <td>0.673235</td>\n",
       "      <td>1.483182</td>\n",
       "      <td>0.529890</td>\n",
       "      <td>-0.705806</td>\n",
       "      <td>1.603039e+09</td>\n",
       "    </tr>\n",
       "    <tr>\n",
       "      <th>1918</th>\n",
       "      <td>112</td>\n",
       "      <td>0.613982</td>\n",
       "      <td>1.138518</td>\n",
       "      <td>-0.074955</td>\n",
       "      <td>0.232227</td>\n",
       "      <td>1.603039e+09</td>\n",
       "    </tr>\n",
       "    <tr>\n",
       "      <th>1919</th>\n",
       "      <td>113</td>\n",
       "      <td>0.514739</td>\n",
       "      <td>0.745406</td>\n",
       "      <td>-0.695221</td>\n",
       "      <td>1.168475</td>\n",
       "      <td>1.603039e+09</td>\n",
       "    </tr>\n",
       "  </tbody>\n",
       "</table>\n",
       "<p>1920 rows × 6 columns</p>\n",
       "</div>"
      ],
      "text/plain": [
       "      Counter         P7        O1        O2        P8          TIME\n",
       "0           0  -9.561456 -3.343435 -4.003729 -3.802192  1.603039e+09\n",
       "1           1 -11.409814 -3.897338 -4.832102 -3.935986  1.603039e+09\n",
       "2           2 -13.156168 -4.396484 -5.601704 -4.039875  1.603039e+09\n",
       "3           3 -14.767379 -4.828228 -6.294223 -4.105408  1.603039e+09\n",
       "4           4 -16.213074 -5.181002 -6.892716 -4.125112  1.603039e+09\n",
       "...       ...        ...       ...       ...       ...           ...\n",
       "1915      109   0.655595  1.996756  1.661130 -2.542917  1.603039e+09\n",
       "1916      110   0.688208  1.771492  1.111060 -1.634517  1.603039e+09\n",
       "1917      111   0.673235  1.483182  0.529890 -0.705806  1.603039e+09\n",
       "1918      112   0.613982  1.138518 -0.074955  0.232227  1.603039e+09\n",
       "1919      113   0.514739  0.745406 -0.695221  1.168475  1.603039e+09\n",
       "\n",
       "[1920 rows x 6 columns]"
      ]
     },
     "execution_count": 10,
     "metadata": {},
     "output_type": "execute_result"
    }
   ],
   "source": [
    "targets[0]"
   ]
  },
  {
   "cell_type": "code",
   "execution_count": null,
   "metadata": {},
   "outputs": [],
   "source": []
  }
 ],
 "metadata": {
  "kernelspec": {
   "display_name": "Python 3",
   "language": "python",
   "name": "python3"
  },
  "language_info": {
   "codemirror_mode": {
    "name": "ipython",
    "version": 3
   },
   "file_extension": ".py",
   "mimetype": "text/x-python",
   "name": "python",
   "nbconvert_exporter": "python",
   "pygments_lexer": "ipython3",
   "version": "3.8.3"
  }
 },
 "nbformat": 4,
 "nbformat_minor": 4
}
