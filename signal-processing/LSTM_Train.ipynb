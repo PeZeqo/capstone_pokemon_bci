{
 "cells": [
  {
   "cell_type": "markdown",
   "metadata": {},
   "source": [
    "<h1> Imports"
   ]
  },
  {
   "cell_type": "code",
   "execution_count": 60,
   "metadata": {},
   "outputs": [],
   "source": [
    "import pandas as pd\n",
    "import numpy as np\n",
    "import os\n",
    "from matplotlib import pyplot as plt \n",
    "from sklearn.decomposition import PCA\n",
    "from sklearn.model_selection import train_test_split\n",
    "from sklearn.feature_selection import SelectFdr\n",
    "from scipy.signal import butter, lfilter, filtfilt, freqz\n",
    "from scipy import signal\n",
    "import pywt"
   ]
  },
  {
   "cell_type": "markdown",
   "metadata": {},
   "source": [
    "<h1> Fitlering Functions"
   ]
  },
  {
   "cell_type": "code",
   "execution_count": 61,
   "metadata": {},
   "outputs": [],
   "source": [
    "def apply_butterband_filter(input_df):\n",
    "    df = input_df.copy()\n",
    "    for col in df.columns:\n",
    "        df[col] = filter_df_col(df, col)\n",
    "        \n",
    "    return df\n",
    "\n",
    "def filter_df_col(df, col):\n",
    "    fs = 512.0\n",
    "    lowcut = 12.0\n",
    "    highcut = 25.0\n",
    "    \n",
    "    vals = df[col].values\n",
    "    return butter_bandpass_filter(vals, lowcut, highcut, fs)\n",
    "\n",
    "def butter_bandpass(lowcut, highcut, fs, order=3):\n",
    "    nyq = 0.5 * fs\n",
    "    low = lowcut / nyq\n",
    "    high = highcut / nyq\n",
    "    b, a = butter(order, [low, high], btype='band')\n",
    "    return b, a\n",
    "\n",
    "\n",
    "def butter_bandpass_filter(data, lowcut, highcut, fs, order=3):\n",
    "    b, a = butter_bandpass(lowcut, highcut, fs, order=order)\n",
    "    data = data * 50    # amplify data\n",
    "    y = filtfilt(b, a, data)\n",
    "    return y"
   ]
  },
  {
   "cell_type": "code",
   "execution_count": 300,
   "metadata": {},
   "outputs": [],
   "source": [
    "from joblib import dump, load\n",
    "\n",
    "def wavelet_dwt(df):\n",
    "    return pywt.dwt(df.values, 'db5')\n",
    "\n",
    "def wavelet_dwt(df):\n",
    "    return pywt.dwt(df, 'db4')\n",
    "\n",
    "def pca_and_inverse(df):\n",
    "    pca = PCA(0.80).fit(df)\n",
    "    dump(pca, 'models\\pca')\n",
    "    components = pca.transform(df)\n",
    "    return pca.inverse_transform(components)\n",
    "\n",
    "def pca_and_inverse_with_load(df):\n",
    "    pca = load('models\\pca')\n",
    "    components = pca.transform(df)\n",
    "    return pca.inverse_transform(components)\n",
    "    \n",
    "def pca_feature_selection(df):\n",
    "    pca = PCA(1).fit(df)\n",
    "    return pca.transform(df)"
   ]
  },
  {
   "cell_type": "code",
   "execution_count": 301,
   "metadata": {},
   "outputs": [],
   "source": [
    "record_export_folder = 'recordings'\n",
    "# keep_cols = ['EEG.P7', 'EEG.O1', 'EEG.O2', 'EEG.P8'] # ['Timestamp', 'EEG.Counter', 'EEG.P7', 'EEG.O1', 'EEG.O2', 'EEG.P8']\n",
    "keep_cols = ['P7', 'O1', 'O2', 'P8'] # ['EEG.P7', 'EEG.O1', 'EEG.O2', 'EEG.P8'] # ['Timestamp', 'EEG.Counter', 'EEG.P7', 'EEG.O1', 'EEG.O2', 'EEG.P8']\n",
    "\n",
    "def load_df(file_name):\n",
    "    file_path = os.path.join(record_export_folder, file_name)\n",
    "    return pd.read_csv(file_path, skiprows=0, header=0)\n",
    "\n",
    "def trim_cols(df):\n",
    "    return df[keep_cols]\n",
    "\n",
    "def filter_data(df):\n",
    "#     df = apply_butterband_filter(df)\n",
    "    df = pca_and_inverse(df)\n",
    "    return wavelet_dwt(df)"
   ]
  },
  {
   "cell_type": "markdown",
   "metadata": {},
   "source": [
    "<h1> Training Data"
   ]
  },
  {
   "cell_type": "code",
   "execution_count": 302,
   "metadata": {},
   "outputs": [],
   "source": [
    "from sklearn.preprocessing import minmax_scale"
   ]
  },
  {
   "cell_type": "code",
   "execution_count": 303,
   "metadata": {},
   "outputs": [],
   "source": [
    "seconds_to_check = 1\n",
    "seconds_per_recording = 50\n",
    "interval_range = int(128 * seconds_to_check)\n",
    "data_points = int(seconds_per_recording / seconds_to_check)\n",
    "\n",
    "def split_to_training_data(df):\n",
    "    total_data = []\n",
    "    for interval_start in range(0, interval_range * data_points, interval_range):\n",
    "        temp_data = []\n",
    "        for col in range(0, df.shape[1]):\n",
    "            temp_data.append(df[interval_start:interval_start + interval_range, col])\n",
    "        \n",
    "        total_data.append(temp_data)\n",
    "        \n",
    "    return np.asarray(total_data)\n",
    "\n",
    "def create_target_data(data, target):\n",
    "    return np.asarray([target] * data.shape[0])\n",
    "\n",
    "def scale_and_normalize(data):\n",
    "#     print(data.shape)\n",
    "    for sample in range(data.shape[0]):\n",
    "        data[sample,:,:] = minmax_scale(data[sample,:,:])\n",
    "#         for feature in range(data.shape[1]):\n",
    "#             data[sample,feature,:] = minmax_scale(data[sample,feature,:])\n",
    "#             data[:,col] = minmax_scale(data[:,col])\n",
    "    return data\n",
    "#     return minmax_scale(data)"
   ]
  },
  {
   "cell_type": "code",
   "execution_count": 304,
   "metadata": {},
   "outputs": [],
   "source": [
    "targets = range(0, 9)\n",
    "total_train_x = []\n",
    "total_train_y = []\n",
    "for target in targets:\n",
    "    df = trim_cols(load_df('checkerboard_recording_sultan_for_50_seconds_{}.csv'.format(target)))\n",
    "    approx, decomp = filter_data(df)\n",
    "    total_data = np.concatenate((approx, decomp), axis=1)\n",
    "#     pca_approx = pca_and_inverse(approx) \n",
    "#     pca_decomp = pca_and_inverse(decomp)\n",
    "#     total_data = np.concatenate((pca_approx, pca_decomp), axis=1)\n",
    "#     total_data = pca_approx\n",
    "#     total_data = pca_decomp\n",
    "    train_x = split_to_training_data(total_data)\n",
    "    train_x = scale_and_normalize(train_x)\n",
    "    train_y = create_target_data(train_x, target)\n",
    "    if target == targets[0]:\n",
    "        total_train_x = train_x\n",
    "        total_train_y = train_y\n",
    "    else:\n",
    "        total_train_x = np.concatenate((total_train_x, train_x))\n",
    "        total_train_y = np.concatenate((total_train_y, train_y))"
   ]
  },
  {
   "cell_type": "code",
   "execution_count": 305,
   "metadata": {},
   "outputs": [
    {
     "data": {
      "text/plain": [
       "(450, 10, 128)"
      ]
     },
     "execution_count": 305,
     "metadata": {},
     "output_type": "execute_result"
    }
   ],
   "source": [
    "total_train_x.shape"
   ]
  },
  {
   "cell_type": "code",
   "execution_count": 306,
   "metadata": {},
   "outputs": [],
   "source": [
    "train_x, validation_x, train_y, validation_y = train_test_split(total_train_x, total_train_y, test_size = 0.2)"
   ]
  },
  {
   "cell_type": "code",
   "execution_count": 307,
   "metadata": {},
   "outputs": [],
   "source": [
    "import tensorflow as tf\n",
    "from tensorflow.keras import backend as K\n",
    "from tensorflow.keras.models import Sequential\n",
    "from tensorflow.keras.layers import Dense, Dropout, LSTM, SimpleRNN, GRU, BatchNormalization, LayerNormalization, ActivityRegularization\n",
    "from tensorflow.keras.callbacks import TensorBoard, ModelCheckpoint, LearningRateScheduler, ReduceLROnPlateau, EarlyStopping"
   ]
  },
  {
   "cell_type": "code",
   "execution_count": 308,
   "metadata": {},
   "outputs": [],
   "source": [
    "def create_model():\n",
    "    model = Sequential()\n",
    "    model.add(LSTM(24, input_shape=(train_x.shape[1:]), return_sequences=True))\n",
    "#     model.add(Dropout(0.2))\n",
    "#     model.add(ActivityRegularization(l2=0.001))\n",
    "#     model.add(BatchNormalization())\n",
    "\n",
    "    model.add(LSTM(24, input_shape=(train_x.shape[1:]), return_sequences=True))\n",
    "#     model.add(Dropout(0.2))\n",
    "#     model.add(ActivityRegularization(l2=0.01))\n",
    "#     model.add(BatchNormalization())\n",
    "\n",
    "    model.add(LSTM(24, input_shape=(train_x.shape[1:]), return_sequences=False))\n",
    "#     model.add(Dropout(0.2))\n",
    "#     model.add(ActivityRegularization(l2=0.01))\n",
    "#     model.add(BatchNormalization())\n",
    "\n",
    "#     model.add(Dense(16))\n",
    "\n",
    "    model.add(Dense(9, activation=\"softmax\"))\n",
    "    \n",
    "    return model"
   ]
  },
  {
   "cell_type": "code",
   "execution_count": 309,
   "metadata": {},
   "outputs": [],
   "source": [
    "EPOCHS = 200\n",
    "BATCH_SIZE = 12\n",
    "NAME= \"models\\BEST\""
   ]
  },
  {
   "cell_type": "code",
   "execution_count": 310,
   "metadata": {},
   "outputs": [
    {
     "name": "stdout",
     "output_type": "stream",
     "text": [
      "Epoch 1/200\n",
      "30/30 [==============================] - ETA: 0s - loss: 2.2108 - acc: 0.0806\n",
      "Epoch 00001: val_loss improved from inf to 2.19680, saving model to models\\Best\n",
      "30/30 [==============================] - 1s 39ms/step - loss: 2.2108 - acc: 0.0806 - val_loss: 2.1968 - val_acc: 0.1111\n",
      "Epoch 2/200\n",
      "28/30 [===========================>..] - ETA: 0s - loss: 2.2019 - acc: 0.1042\n",
      "Epoch 00002: val_loss did not improve from 2.19680\n",
      "30/30 [==============================] - 0s 7ms/step - loss: 2.2022 - acc: 0.1000 - val_loss: 2.2006 - val_acc: 0.1000\n",
      "Epoch 3/200\n",
      "29/30 [============================>.] - ETA: 0s - loss: 2.2010 - acc: 0.1063\n",
      "Epoch 00003: val_loss did not improve from 2.19680\n",
      "30/30 [==============================] - 0s 7ms/step - loss: 2.2005 - acc: 0.1083 - val_loss: 2.2015 - val_acc: 0.1000\n",
      "Epoch 4/200\n",
      "29/30 [============================>.] - ETA: 0s - loss: 2.2001 - acc: 0.1092  \n",
      "Epoch 00004: val_loss did not improve from 2.19680\n",
      "30/30 [==============================] - 0s 7ms/step - loss: 2.2000 - acc: 0.1056 - val_loss: 2.1998 - val_acc: 0.0889\n",
      "Epoch 5/200\n",
      "30/30 [==============================] - ETA: 0s - loss: 2.1991 - acc: 0.0944  \n",
      "Epoch 00005: val_loss did not improve from 2.19680\n",
      "30/30 [==============================] - 0s 7ms/step - loss: 2.1991 - acc: 0.0944 - val_loss: 2.1996 - val_acc: 0.1000\n",
      "Epoch 6/200\n",
      "29/30 [============================>.] - ETA: 0s - loss: 2.1994 - acc: 0.0805\n",
      "Epoch 00006: val_loss did not improve from 2.19680\n",
      "30/30 [==============================] - 0s 7ms/step - loss: 2.1994 - acc: 0.0806 - val_loss: 2.2010 - val_acc: 0.0889\n",
      "Epoch 7/200\n",
      "27/30 [==========================>...] - ETA: 0s - loss: 2.1984 - acc: 0.1173\n",
      "Epoch 00007: val_loss did not improve from 2.19680\n",
      "30/30 [==============================] - 0s 7ms/step - loss: 2.1981 - acc: 0.1167 - val_loss: 2.2008 - val_acc: 0.0889\n",
      "Epoch 8/200\n",
      "29/30 [============================>.] - ETA: 0s - loss: 2.1997 - acc: 0.1121\n",
      "Epoch 00008: val_loss did not improve from 2.19680\n",
      "30/30 [==============================] - 0s 7ms/step - loss: 2.1998 - acc: 0.1083 - val_loss: 2.1996 - val_acc: 0.1000\n",
      "Epoch 9/200\n",
      "30/30 [==============================] - ETA: 0s - loss: 2.1993 - acc: 0.0750  \n",
      "Epoch 00009: val_loss did not improve from 2.19680\n",
      "30/30 [==============================] - 0s 7ms/step - loss: 2.1993 - acc: 0.0750 - val_loss: 2.2001 - val_acc: 0.1000\n",
      "Epoch 10/200\n",
      "30/30 [==============================] - ETA: 0s - loss: 2.1992 - acc: 0.1083\n",
      "Epoch 00010: val_loss did not improve from 2.19680\n",
      "30/30 [==============================] - 0s 7ms/step - loss: 2.1992 - acc: 0.1083 - val_loss: 2.2003 - val_acc: 0.0889\n",
      "Epoch 11/200\n",
      "29/30 [============================>.] - ETA: 0s - loss: 2.1995 - acc: 0.0891  \n",
      "Epoch 00011: val_loss did not improve from 2.19680\n",
      "30/30 [==============================] - 0s 8ms/step - loss: 2.1997 - acc: 0.0889 - val_loss: 2.2012 - val_acc: 0.0889\n",
      "Epoch 12/200\n",
      "27/30 [==========================>...] - ETA: 0s - loss: 2.1977 - acc: 0.1235  \n",
      "Epoch 00012: val_loss did not improve from 2.19680\n",
      "30/30 [==============================] - 0s 7ms/step - loss: 2.1983 - acc: 0.1167 - val_loss: 2.2007 - val_acc: 0.0889\n",
      "Epoch 13/200\n",
      "21/30 [====================>.........] - ETA: 0s - loss: 2.1983 - acc: 0.0913\n",
      "Epoch 00013: val_loss did not improve from 2.19680\n",
      "30/30 [==============================] - 0s 7ms/step - loss: 2.1992 - acc: 0.0917 - val_loss: 2.2007 - val_acc: 0.1000\n",
      "Epoch 14/200\n",
      "30/30 [==============================] - ETA: 0s - loss: 2.1979 - acc: 0.1167\n",
      "Epoch 00014: val_loss did not improve from 2.19680\n",
      "30/30 [==============================] - 0s 7ms/step - loss: 2.1979 - acc: 0.1167 - val_loss: 2.2008 - val_acc: 0.0889\n",
      "Epoch 15/200\n",
      "21/30 [====================>.........] - ETA: 0s - loss: 2.1975 - acc: 0.1270\n",
      "Epoch 00015: val_loss did not improve from 2.19680\n",
      "30/30 [==============================] - 0s 7ms/step - loss: 2.1979 - acc: 0.1167 - val_loss: 2.2006 - val_acc: 0.0889\n",
      "Epoch 16/200\n",
      "30/30 [==============================] - ETA: 0s - loss: 2.1983 - acc: 0.1083\n",
      "Epoch 00016: val_loss did not improve from 2.19680\n",
      "30/30 [==============================] - 0s 7ms/step - loss: 2.1983 - acc: 0.1083 - val_loss: 2.2015 - val_acc: 0.0889\n",
      "Epoch 17/200\n",
      "21/30 [====================>.........] - ETA: 0s - loss: 2.1971 - acc: 0.1230\n",
      "Epoch 00017: val_loss did not improve from 2.19680\n",
      "30/30 [==============================] - 0s 7ms/step - loss: 2.1976 - acc: 0.1167 - val_loss: 2.2011 - val_acc: 0.0889\n",
      "Epoch 18/200\n",
      "30/30 [==============================] - ETA: 0s - loss: 2.1978 - acc: 0.1167\n",
      "Epoch 00018: val_loss did not improve from 2.19680\n",
      "30/30 [==============================] - 0s 7ms/step - loss: 2.1978 - acc: 0.1167 - val_loss: 2.2010 - val_acc: 0.0889\n",
      "Epoch 19/200\n",
      "29/30 [============================>.] - ETA: 0s - loss: 2.1970 - acc: 0.1178\n",
      "Epoch 00019: val_loss did not improve from 2.19680\n",
      "30/30 [==============================] - 0s 7ms/step - loss: 2.1971 - acc: 0.1167 - val_loss: 2.2011 - val_acc: 0.0889\n",
      "Epoch 20/200\n",
      "21/30 [====================>.........] - ETA: 0s - loss: 2.1976 - acc: 0.1190   \n",
      "Epoch 00020: val_loss did not improve from 2.19680\n",
      "30/30 [==============================] - 0s 7ms/step - loss: 2.1979 - acc: 0.1167 - val_loss: 2.2004 - val_acc: 0.0889\n",
      "Epoch 21/200\n",
      "29/30 [============================>.] - ETA: 0s - loss: 2.1972 - acc: 0.1034\n",
      "Epoch 00021: val_loss did not improve from 2.19680\n",
      "30/30 [==============================] - 0s 7ms/step - loss: 2.1979 - acc: 0.1000 - val_loss: 2.2014 - val_acc: 0.0889\n",
      "Epoch 22/200\n",
      "29/30 [============================>.] - ETA: 0s - loss: 2.1981 - acc: 0.1178\n",
      "Epoch 00022: val_loss did not improve from 2.19680\n",
      "30/30 [==============================] - 0s 7ms/step - loss: 2.1978 - acc: 0.1167 - val_loss: 2.2008 - val_acc: 0.0889\n",
      "Epoch 23/200\n",
      "30/30 [==============================] - ETA: 0s - loss: 2.1977 - acc: 0.1167\n",
      "Epoch 00023: val_loss did not improve from 2.19680\n",
      "30/30 [==============================] - 0s 7ms/step - loss: 2.1977 - acc: 0.1167 - val_loss: 2.2003 - val_acc: 0.0889\n",
      "Epoch 24/200\n",
      "29/30 [============================>.] - ETA: 0s - loss: 2.1973 - acc: 0.1149\n",
      "Epoch 00024: val_loss did not improve from 2.19680\n",
      "30/30 [==============================] - 0s 7ms/step - loss: 2.1975 - acc: 0.1167 - val_loss: 2.2010 - val_acc: 0.0889\n",
      "Epoch 25/200\n",
      "30/30 [==============================] - ETA: 0s - loss: 2.1975 - acc: 0.0889\n",
      "Epoch 00025: val_loss did not improve from 2.19680\n",
      "30/30 [==============================] - 0s 7ms/step - loss: 2.1975 - acc: 0.0889 - val_loss: 2.2013 - val_acc: 0.0889\n",
      "Epoch 26/200\n",
      "21/30 [====================>.........] - ETA: 0s - loss: 2.1959 - acc: 0.1190\n",
      "Epoch 00026: val_loss did not improve from 2.19680\n",
      "30/30 [==============================] - 0s 7ms/step - loss: 2.1979 - acc: 0.1167 - val_loss: 2.2015 - val_acc: 0.0889\n",
      "Epoch 27/200\n",
      "30/30 [==============================] - ETA: 0s - loss: 2.1979 - acc: 0.1167\n",
      "Epoch 00027: val_loss did not improve from 2.19680\n",
      "30/30 [==============================] - 0s 7ms/step - loss: 2.1979 - acc: 0.1167 - val_loss: 2.2011 - val_acc: 0.0889\n",
      "Epoch 28/200\n",
      "21/30 [====================>.........] - ETA: 0s - loss: 2.1967 - acc: 0.1349\n",
      "Epoch 00028: val_loss did not improve from 2.19680\n",
      "30/30 [==============================] - 0s 7ms/step - loss: 2.1974 - acc: 0.1167 - val_loss: 2.2008 - val_acc: 0.0889\n",
      "Epoch 29/200\n",
      "30/30 [==============================] - ETA: 0s - loss: 2.1974 - acc: 0.1167\n",
      "Epoch 00029: val_loss did not improve from 2.19680\n",
      "30/30 [==============================] - 0s 7ms/step - loss: 2.1974 - acc: 0.1167 - val_loss: 2.2010 - val_acc: 0.0889\n",
      "Epoch 30/200\n",
      "21/30 [====================>.........] - ETA: 0s - loss: 2.1971 - acc: 0.1190\n",
      "Epoch 00030: val_loss did not improve from 2.19680\n",
      "30/30 [==============================] - 0s 7ms/step - loss: 2.1974 - acc: 0.1167 - val_loss: 2.2005 - val_acc: 0.0889\n",
      "Epoch 31/200\n",
      "28/30 [===========================>..] - ETA: 0s - loss: 2.1970 - acc: 0.1220\n",
      "Epoch 00031: val_loss did not improve from 2.19680\n",
      "30/30 [==============================] - 0s 7ms/step - loss: 2.1972 - acc: 0.1167 - val_loss: 2.2005 - val_acc: 0.0889\n",
      "Epoch 32/200\n"
     ]
    },
    {
     "name": "stdout",
     "output_type": "stream",
     "text": [
      "29/30 [============================>.] - ETA: 0s - loss: 2.1971 - acc: 0.1178\n",
      "Epoch 00032: val_loss did not improve from 2.19680\n",
      "30/30 [==============================] - 0s 7ms/step - loss: 2.1970 - acc: 0.1167 - val_loss: 2.2004 - val_acc: 0.0889\n",
      "Epoch 33/200\n",
      "28/30 [===========================>..] - ETA: 0s - loss: 2.1976 - acc: 0.1101  \n",
      "Epoch 00033: val_loss did not improve from 2.19680\n",
      "30/30 [==============================] - 0s 7ms/step - loss: 2.1971 - acc: 0.1167 - val_loss: 2.2000 - val_acc: 0.0889\n",
      "Epoch 34/200\n",
      "28/30 [===========================>..] - ETA: 0s - loss: 2.1980 - acc: 0.1101\n",
      "Epoch 00034: val_loss did not improve from 2.19680\n",
      "30/30 [==============================] - 0s 7ms/step - loss: 2.1978 - acc: 0.1167 - val_loss: 2.2000 - val_acc: 0.0889\n",
      "Epoch 35/200\n",
      "27/30 [==========================>...] - ETA: 0s - loss: 2.1962 - acc: 0.1265\n",
      "Epoch 00035: val_loss did not improve from 2.19680\n",
      "30/30 [==============================] - 0s 8ms/step - loss: 2.1974 - acc: 0.1167 - val_loss: 2.2012 - val_acc: 0.0889\n",
      "Epoch 36/200\n",
      "28/30 [===========================>..] - ETA: 0s - loss: 2.1976 - acc: 0.1190\n",
      "Epoch 00036: val_loss did not improve from 2.19680\n",
      "30/30 [==============================] - 0s 7ms/step - loss: 2.1972 - acc: 0.1167 - val_loss: 2.1999 - val_acc: 0.0889\n",
      "Epoch 37/200\n",
      "28/30 [===========================>..] - ETA: 0s - loss: 2.1970 - acc: 0.1131\n",
      "Epoch 00037: val_loss did not improve from 2.19680\n",
      "30/30 [==============================] - 0s 7ms/step - loss: 2.1971 - acc: 0.1167 - val_loss: 2.2007 - val_acc: 0.0889\n",
      "Epoch 38/200\n",
      "28/30 [===========================>..] - ETA: 0s - loss: 2.1966 - acc: 0.1190  \n",
      "Epoch 00038: val_loss did not improve from 2.19680\n",
      "30/30 [==============================] - 0s 7ms/step - loss: 2.1965 - acc: 0.1167 - val_loss: 2.1999 - val_acc: 0.0889\n",
      "Epoch 39/200\n",
      "28/30 [===========================>..] - ETA: 0s - loss: 2.1971 - acc: 0.1161\n",
      "Epoch 00039: val_loss did not improve from 2.19680\n",
      "30/30 [==============================] - 0s 7ms/step - loss: 2.1966 - acc: 0.1167 - val_loss: 2.1996 - val_acc: 0.0889\n",
      "Epoch 40/200\n",
      "28/30 [===========================>..] - ETA: 0s - loss: 2.1957 - acc: 0.1101\n",
      "Epoch 00040: val_loss did not improve from 2.19680\n",
      "30/30 [==============================] - 0s 7ms/step - loss: 2.1964 - acc: 0.1111 - val_loss: 2.1995 - val_acc: 0.0889\n",
      "Epoch 41/200\n",
      "28/30 [===========================>..] - ETA: 0s - loss: 2.1954 - acc: 0.0923\n",
      "Epoch 00041: val_loss did not improve from 2.19680\n",
      "30/30 [==============================] - 0s 7ms/step - loss: 2.1960 - acc: 0.0972 - val_loss: 2.1996 - val_acc: 0.0778\n"
     ]
    }
   ],
   "source": [
    "model = create_model()\n",
    "    \n",
    "opt = tf.keras.optimizers.Adam()\n",
    "\n",
    "model.compile(loss='sparse_categorical_crossentropy',\n",
    "              optimizer=opt, metrics=['acc'])\n",
    "\n",
    "callbacks = [\n",
    "#     TensorBoard(f\"logs\\LSTM-{int(time.time())}\"),\n",
    "    ReduceLROnPlateau(patience=15, factor=0.8),\n",
    "    EarlyStopping(patience=40),\n",
    "    ModelCheckpoint(filepath=f\"models\\Best\", monitor='val_loss', verbose=2, save_weights_only=True, save_best_only=True, mode='min')\n",
    "]\n",
    "    \n",
    "history = model.fit(train_x,\n",
    "                    train_y,\n",
    "                    batch_size= BATCH_SIZE,\n",
    "                    epochs = EPOCHS,\n",
    "                    validation_data=(validation_x, validation_y), \n",
    "                    callbacks=callbacks)"
   ]
  },
  {
   "cell_type": "code",
   "execution_count": 311,
   "metadata": {},
   "outputs": [
    {
     "data": {
      "image/png": "[encoded data removed]",
      "text/plain": [
       "<Figure size 432x288 with 1 Axes>"
      ]
     },
     "metadata": {
      "needs_background": "light"
     },
     "output_type": "display_data"
    }
   ],
   "source": [
    "plt.plot(history.history['loss'], label='Training Loss')\n",
    "plt.plot(history.history['val_loss'], label='Validation Loss')\n",
    "plt.title('Loss for EEG LSTM')\n",
    "plt.ylabel('Loss value')\n",
    "plt.xlabel('# epoch')\n",
    "plt.legend(loc=\"upper left\")\n",
    "plt.show()"
   ]
  },
  {
   "cell_type": "code",
   "execution_count": 312,
   "metadata": {},
   "outputs": [
    {
     "data": {
      "image/png": "[encoded data removed]",
      "text/plain": [
       "<Figure size 432x288 with 1 Axes>"
      ]
     },
     "metadata": {
      "needs_background": "light"
     },
     "output_type": "display_data"
    }
   ],
   "source": [
    "plt.plot(history.history['acc'], label='Training Acc')\n",
    "plt.plot(history.history['val_acc'], label='Validation Acc')\n",
    "plt.title('Acc for EEG LSTM')\n",
    "plt.ylabel('Acc value')\n",
    "plt.xlabel('# epoch')\n",
    "plt.legend(loc=\"upper left\")\n",
    "plt.show()"
   ]
  },
  {
   "cell_type": "code",
   "execution_count": 248,
   "metadata": {},
   "outputs": [
    {
     "data": {
      "text/plain": [
       "<tensorflow.python.training.tracking.util.CheckpointLoadStatus at 0x153018a5340>"
      ]
     },
     "execution_count": 248,
     "metadata": {},
     "output_type": "execute_result"
    }
   ],
   "source": [
    "model.load_weights(f\"models\\Best\")"
   ]
  },
  {
   "cell_type": "code",
   "execution_count": null,
   "metadata": {},
   "outputs": [],
   "source": []
  },
  {
   "cell_type": "code",
   "execution_count": null,
   "metadata": {},
   "outputs": [],
   "source": []
  },
  {
   "cell_type": "code",
   "execution_count": 249,
   "metadata": {},
   "outputs": [],
   "source": [
    "seconds_to_check = 1\n",
    "seconds_per_recording = 15\n",
    "interval_range = int(128 * seconds_to_check)\n",
    "data_points = int(seconds_per_recording / seconds_to_check)"
   ]
  },
  {
   "cell_type": "code",
   "execution_count": 250,
   "metadata": {},
   "outputs": [],
   "source": [
    "targets = range(0, 9)\n",
    "total_train_x = []\n",
    "total_train_y = []\n",
    "for target in targets:\n",
    "    df = trim_cols(load_df('second_checkerboard_recording_sultan_{}.csv'.format(target)))\n",
    "    approx, decomp = filter_data(df)\n",
    "    pca_approx = pca_and_inverse_with_load(approx) \n",
    "    pca_decomp = pca_and_inverse_with_load(decomp)\n",
    "    total_data = np.concatenate((pca_approx, pca_decomp), axis=1)\n",
    "#     total_data = pca_approx\n",
    "#     total_data = pca_decomp\n",
    "    train_x = split_to_training_data(total_data)\n",
    "    train_x = scale_and_normalize(train_x)\n",
    "    train_y = create_target_data(train_x, target)\n",
    "    if target == targets[0]:\n",
    "        total_train_x = train_x\n",
    "        total_train_y = train_y\n",
    "    else:\n",
    "        total_train_x = np.concatenate((total_train_x, train_x))\n",
    "        total_train_y = np.concatenate((total_train_y, train_y))"
   ]
  },
  {
   "cell_type": "code",
   "execution_count": 251,
   "metadata": {},
   "outputs": [
    {
     "data": {
      "text/plain": [
       "(135, 10, 128)"
      ]
     },
     "execution_count": 251,
     "metadata": {},
     "output_type": "execute_result"
    }
   ],
   "source": [
    "total_train_x.shape"
   ]
  },
  {
   "cell_type": "code",
   "execution_count": 252,
   "metadata": {},
   "outputs": [
    {
     "name": "stdout",
     "output_type": "stream",
     "text": [
      "2/2 [==============================] - 0s 2ms/step - loss: 2.9524 - acc: 0.1111\n"
     ]
    },
    {
     "data": {
      "text/plain": [
       "[2.9523987770080566, 0.1111111119389534]"
      ]
     },
     "execution_count": 252,
     "metadata": {},
     "output_type": "execute_result"
    }
   ],
   "source": [
    "model.evaluate(total_train_x, total_train_y, batch_size=128)"
   ]
  },
  {
   "cell_type": "code",
   "execution_count": null,
   "metadata": {},
   "outputs": [],
   "source": []
  },
  {
   "cell_type": "code",
   "execution_count": null,
   "metadata": {},
   "outputs": [],
   "source": []
  },
  {
   "cell_type": "code",
   "execution_count": null,
   "metadata": {},
   "outputs": [],
   "source": []
  },
  {
   "cell_type": "code",
   "execution_count": null,
   "metadata": {},
   "outputs": [],
   "source": []
  },
  {
   "cell_type": "code",
   "execution_count": null,
   "metadata": {},
   "outputs": [],
   "source": []
  },
  {
   "cell_type": "code",
   "execution_count": 24,
   "metadata": {},
   "outputs": [
    {
     "data": {
      "text/plain": [
       "(337, 12, 128)"
      ]
     },
     "execution_count": 24,
     "metadata": {},
     "output_type": "execute_result"
    }
   ],
   "source": [
    "train_x.shape"
   ]
  },
  {
   "cell_type": "code",
   "execution_count": 34,
   "metadata": {},
   "outputs": [],
   "source": [
    "pred = model.predict(train_x[0].reshape(-1, train_x.shape[1], train_x.shape[2]))"
   ]
  },
  {
   "cell_type": "code",
   "execution_count": 35,
   "metadata": {},
   "outputs": [
    {
     "data": {
      "text/plain": [
       "array([[3.3189676e-04, 4.2085871e-03, 6.9821896e-03, 2.4181621e-03,\n",
       "        2.3798265e-04, 2.1329962e-03, 5.0884534e-02, 6.4253420e-02,\n",
       "        8.6855030e-01]], dtype=float32)"
      ]
     },
     "execution_count": 35,
     "metadata": {},
     "output_type": "execute_result"
    }
   ],
   "source": [
    "pred"
   ]
  },
  {
   "cell_type": "code",
   "execution_count": 36,
   "metadata": {},
   "outputs": [
    {
     "data": {
      "text/plain": [
       "8"
      ]
     },
     "execution_count": 36,
     "metadata": {},
     "output_type": "execute_result"
    }
   ],
   "source": [
    "np.argmax(pred)"
   ]
  },
  {
   "cell_type": "code",
   "execution_count": 37,
   "metadata": {},
   "outputs": [
    {
     "data": {
      "text/plain": [
       "array([8, 7, 1, 2, 1, 1, 6, 1, 3, 7])"
      ]
     },
     "execution_count": 37,
     "metadata": {},
     "output_type": "execute_result"
    }
   ],
   "source": [
    "train_y[:10]"
   ]
  },
  {
   "cell_type": "code",
   "execution_count": 185,
   "metadata": {},
   "outputs": [],
   "source": [
    "model.save_weights('models\\model.h5')\n",
    "model_json = model.to_json()\n",
    "with open('models\\model.json', \"w\") as json_file:\n",
    "    json_file.write(model_json)"
   ]
  },
  {
   "cell_type": "code",
   "execution_count": null,
   "metadata": {},
   "outputs": [],
   "source": []
  },
  {
   "cell_type": "code",
   "execution_count": null,
   "metadata": {},
   "outputs": [],
   "source": []
  },
  {
   "cell_type": "code",
   "execution_count": null,
   "metadata": {},
   "outputs": [],
   "source": []
  },
  {
   "cell_type": "code",
   "execution_count": null,
   "metadata": {},
   "outputs": [],
   "source": []
  },
  {
   "cell_type": "code",
   "execution_count": null,
   "metadata": {},
   "outputs": [],
   "source": []
  },
  {
   "cell_type": "code",
   "execution_count": null,
   "metadata": {},
   "outputs": [],
   "source": []
  },
  {
   "cell_type": "code",
   "execution_count": null,
   "metadata": {},
   "outputs": [],
   "source": []
  },
  {
   "cell_type": "code",
   "execution_count": null,
   "metadata": {},
   "outputs": [],
   "source": []
  },
  {
   "cell_type": "code",
   "execution_count": null,
   "metadata": {},
   "outputs": [],
   "source": []
  }
 ],
 "metadata": {
  "kernelspec": {
   "display_name": "Python 3",
   "language": "python",
   "name": "python3"
  },
  "language_info": {
   "codemirror_mode": {
    "name": "ipython",
    "version": 3
   },
   "file_extension": ".py",
   "mimetype": "text/x-python",
   "name": "python",
   "nbconvert_exporter": "python",
   "pygments_lexer": "ipython3",
   "version": "3.8.5"
  }
 },
 "nbformat": 4,
 "nbformat_minor": 4
}
